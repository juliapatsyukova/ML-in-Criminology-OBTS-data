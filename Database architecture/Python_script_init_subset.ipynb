{
 "cells": [
  {
   "cell_type": "code",
   "execution_count": 31,
   "metadata": {},
   "outputs": [],
   "source": [
    "import pandas as pd\n",
    "import psycopg2 as pc2"
   ]
  },
  {
   "cell_type": "code",
   "execution_count": 32,
   "metadata": {},
   "outputs": [
    {
     "name": "stderr",
     "output_type": "stream",
     "text": [
      "/var/folders/p9/d79c5zx13b377v_v34ldc8zh0000gn/T/ipykernel_67223/2362573470.py:1: DtypeWarning: Columns (3,4,6,7,8,12,14) have mixed types. Specify dtype option on import or set low_memory=False.\n",
      "  data = pd.read_csv('https://www.dropbox.com/s/srpwa9lxhool57c/subset.csv?dl=1')\n"
     ]
    },
    {
     "data": {
      "text/html": [
       "<div>\n",
       "<style scoped>\n",
       "    .dataframe tbody tr th:only-of-type {\n",
       "        vertical-align: middle;\n",
       "    }\n",
       "\n",
       "    .dataframe tbody tr th {\n",
       "        vertical-align: top;\n",
       "    }\n",
       "\n",
       "    .dataframe thead th {\n",
       "        text-align: right;\n",
       "    }\n",
       "</style>\n",
       "<table border=\"1\" class=\"dataframe\">\n",
       "  <thead>\n",
       "    <tr style=\"text-align: right;\">\n",
       "      <th></th>\n",
       "      <th>age_at_arrest</th>\n",
       "      <th>sex</th>\n",
       "      <th>race</th>\n",
       "      <th>encrypted_id</th>\n",
       "      <th>type_of_court</th>\n",
       "      <th>type_of_trial</th>\n",
       "      <th>type_of_counsel</th>\n",
       "      <th>final_pleading</th>\n",
       "      <th>year_of_sentencing</th>\n",
       "      <th>month_of_sentencing</th>\n",
       "      <th>elapsed_time_sentencing</th>\n",
       "      <th>sentence_min_years</th>\n",
       "      <th>sentence_max_years</th>\n",
       "      <th>sentence_type</th>\n",
       "    </tr>\n",
       "  </thead>\n",
       "  <tbody>\n",
       "    <tr>\n",
       "      <th>0</th>\n",
       "      <td>21.0</td>\n",
       "      <td>NaN</td>\n",
       "      <td>NaN</td>\n",
       "      <td>PNGWXG318985</td>\n",
       "      <td>upper</td>\n",
       "      <td>NaN</td>\n",
       "      <td>NaN</td>\n",
       "      <td>nolo contendere</td>\n",
       "      <td>1990.0</td>\n",
       "      <td>8.0</td>\n",
       "      <td>8.0</td>\n",
       "      <td>NaN</td>\n",
       "      <td>NaN</td>\n",
       "      <td>NaN</td>\n",
       "    </tr>\n",
       "    <tr>\n",
       "      <th>1</th>\n",
       "      <td>21.0</td>\n",
       "      <td>NaN</td>\n",
       "      <td>NaN</td>\n",
       "      <td>KGQWIF309092</td>\n",
       "      <td>upper</td>\n",
       "      <td>NaN</td>\n",
       "      <td>NaN</td>\n",
       "      <td>nolo contendere</td>\n",
       "      <td>1990.0</td>\n",
       "      <td>10.0</td>\n",
       "      <td>11.0</td>\n",
       "      <td>NaN</td>\n",
       "      <td>NaN</td>\n",
       "      <td>NaN</td>\n",
       "    </tr>\n",
       "    <tr>\n",
       "      <th>2</th>\n",
       "      <td>22.0</td>\n",
       "      <td>NaN</td>\n",
       "      <td>NaN</td>\n",
       "      <td>NQWDUF319575</td>\n",
       "      <td>upper</td>\n",
       "      <td>NaN</td>\n",
       "      <td>NaN</td>\n",
       "      <td>nolo contendere</td>\n",
       "      <td>1990.0</td>\n",
       "      <td>7.0</td>\n",
       "      <td>7.0</td>\n",
       "      <td>NaN</td>\n",
       "      <td>NaN</td>\n",
       "      <td>NaN</td>\n",
       "    </tr>\n",
       "    <tr>\n",
       "      <th>3</th>\n",
       "      <td>21.0</td>\n",
       "      <td>NaN</td>\n",
       "      <td>NaN</td>\n",
       "      <td>BVRWXF318779</td>\n",
       "      <td>upper</td>\n",
       "      <td>NaN</td>\n",
       "      <td>NaN</td>\n",
       "      <td>nolo contendere</td>\n",
       "      <td>1990.0</td>\n",
       "      <td>4.0</td>\n",
       "      <td>100.0</td>\n",
       "      <td>NaN</td>\n",
       "      <td>NaN</td>\n",
       "      <td>NaN</td>\n",
       "    </tr>\n",
       "    <tr>\n",
       "      <th>4</th>\n",
       "      <td>30.0</td>\n",
       "      <td>NaN</td>\n",
       "      <td>NaN</td>\n",
       "      <td>DQXTRF409784</td>\n",
       "      <td>upper</td>\n",
       "      <td>NaN</td>\n",
       "      <td>NaN</td>\n",
       "      <td>nolo contendere</td>\n",
       "      <td>1990.0</td>\n",
       "      <td>6.0</td>\n",
       "      <td>285.0</td>\n",
       "      <td>0.0</td>\n",
       "      <td>0.0</td>\n",
       "      <td>one prison or jail sentence</td>\n",
       "    </tr>\n",
       "  </tbody>\n",
       "</table>\n",
       "</div>"
      ],
      "text/plain": [
       "   age_at_arrest  sex race  encrypted_id type_of_court type_of_trial  \\\n",
       "0           21.0  NaN  NaN  PNGWXG318985         upper           NaN   \n",
       "1           21.0  NaN  NaN  KGQWIF309092         upper           NaN   \n",
       "2           22.0  NaN  NaN  NQWDUF319575         upper           NaN   \n",
       "3           21.0  NaN  NaN  BVRWXF318779         upper           NaN   \n",
       "4           30.0  NaN  NaN  DQXTRF409784         upper           NaN   \n",
       "\n",
       "  type_of_counsel   final_pleading  year_of_sentencing  month_of_sentencing  \\\n",
       "0             NaN  nolo contendere              1990.0                  8.0   \n",
       "1             NaN  nolo contendere              1990.0                 10.0   \n",
       "2             NaN  nolo contendere              1990.0                  7.0   \n",
       "3             NaN  nolo contendere              1990.0                  4.0   \n",
       "4             NaN  nolo contendere              1990.0                  6.0   \n",
       "\n",
       "   elapsed_time_sentencing sentence_min_years sentence_max_years  \\\n",
       "0                      8.0                NaN                NaN   \n",
       "1                     11.0                NaN                NaN   \n",
       "2                      7.0                NaN                NaN   \n",
       "3                    100.0                NaN                NaN   \n",
       "4                    285.0                0.0                0.0   \n",
       "\n",
       "                 sentence_type  \n",
       "0                          NaN  \n",
       "1                          NaN  \n",
       "2                          NaN  \n",
       "3                          NaN  \n",
       "4  one prison or jail sentence  "
      ]
     },
     "execution_count": 32,
     "metadata": {},
     "output_type": "execute_result"
    }
   ],
   "source": [
    "data = pd.read_csv('https://www.dropbox.com/s/srpwa9lxhool57c/subset.csv?dl=1')\n",
    "data = data.drop('Unnamed: 0', axis=1)\n",
    "data.head()"
   ]
  },
  {
   "cell_type": "code",
   "execution_count": 42,
   "metadata": {},
   "outputs": [],
   "source": [
    "params = dict(database='postgres',\n",
    "              host='localhost',\n",
    "              user='bloody_user',\n",
    "              password='crime',\n",
    "              port='5432')\n",
    "\n",
    "connection = pc2.connect(**params)\n",
    "cursor = connection.cursor()"
   ]
  },
  {
   "cell_type": "code",
   "execution_count": 43,
   "metadata": {},
   "outputs": [],
   "source": [
    "# название колонок в датафрэйме\n",
    "lol = ['encrypted_id', 'type_of_court', 'type_of_trial', 'type_of_counsel', \n",
    "       'final_pleading', 'sentence_type']\n",
    "# название таблиц в базе\n",
    "tab = ['offenders', 'court_type', 'trial_type', 'counselling_type', \n",
    "       'final_pleading', 'sentencing_type']\n",
    "# название колонок для заполнения в базе\n",
    "col = ['offenders_label', 'court_type_label', 'trial_type_label', \n",
    "       'counselling_type_label', 'final_pleading_label',\n",
    "       'sentencing_type_label']\n",
    "tol = list(zip(lol,tab,col))\n"
   ]
  },
  {
   "cell_type": "code",
   "execution_count": 44,
   "metadata": {},
   "outputs": [],
   "source": [
    "def add_my_queue(to_where, to_col, queue):\n",
    "\n",
    "    values_str = '(' + '), ('.join([f\"'{v}'\" for v in queue]) + ')' # добавить фильтр, который будет отсекать нан\n",
    "    insert_query_DO = f\"INSERT INTO {to_where} ({to_col}) VALUES {values_str}\"\n",
    "    cursor = connection.cursor()\n",
    "    cursor.execute(insert_query_DO)\n",
    "#\n",
    "for t in tol:\n",
    "\n",
    "    add_my_queue(t[1], t[2], data[f'{t[0]}'].dropna().unique())\n",
    "    #\n",
    "connection.commit()\n",
    "connection.close()"
   ]
  },
  {
   "cell_type": "code",
   "execution_count": 39,
   "metadata": {},
   "outputs": [
    {
     "data": {
      "text/plain": [
       "array(['upper', 'lower', 'other court'], dtype=object)"
      ]
     },
     "execution_count": 39,
     "metadata": {},
     "output_type": "execute_result"
    }
   ],
   "source": [
    "data['type_of_court'].dropna().unique()"
   ]
  },
  {
   "cell_type": "code",
   "execution_count": null,
   "metadata": {},
   "outputs": [],
   "source": []
  },
  {
   "cell_type": "code",
   "execution_count": null,
   "metadata": {},
   "outputs": [],
   "source": []
  },
  {
   "cell_type": "code",
   "execution_count": null,
   "metadata": {},
   "outputs": [],
   "source": []
  },
  {
   "cell_type": "code",
   "execution_count": null,
   "metadata": {},
   "outputs": [],
   "source": []
  }
 ],
 "metadata": {
  "kernelspec": {
   "display_name": "base",
   "language": "python",
   "name": "python3"
  },
  "language_info": {
   "codemirror_mode": {
    "name": "ipython",
    "version": 3
   },
   "file_extension": ".py",
   "mimetype": "text/x-python",
   "name": "python",
   "nbconvert_exporter": "python",
   "pygments_lexer": "ipython3",
   "version": "3.9.13"
  },
  "orig_nbformat": 4
 },
 "nbformat": 4,
 "nbformat_minor": 2
}
